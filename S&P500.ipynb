{
 "cells": [
  {
   "cell_type": "code",
   "execution_count": 27,
   "id": "6d9daf5c",
   "metadata": {},
   "outputs": [
    {
     "name": "stdout",
     "output_type": "stream",
     "text": [
      "[*********************100%***********************]  1 of 1 completed\n"
     ]
    },
    {
     "data": {
      "text/plain": [
       "Date\n",
       "2018-01-02    2695.810059\n",
       "2018-01-03    2713.060059\n",
       "2018-01-04    2723.989990\n",
       "2018-01-05    2743.149902\n",
       "2018-01-08    2747.709961\n",
       "                 ...     \n",
       "2023-04-03    4124.509766\n",
       "2023-04-04    4100.600098\n",
       "2023-04-05    4090.379883\n",
       "2023-04-06    4105.020020\n",
       "2023-04-10    4109.109863\n",
       "Name: Adj Close, Length: 1326, dtype: float64"
      ]
     },
     "execution_count": 27,
     "metadata": {},
     "output_type": "execute_result"
    }
   ],
   "source": [
    "import numpy as np\n",
    "import pandas as pd\n",
    "import yfinance as yf\n",
    "import tensorflow as tf\n",
    "from tensorflow.keras.layers import Dense, LSTM\n",
    "from tensorflow.keras.models import Sequential\n",
    "from sklearn.preprocessing import MinMaxScaler\n",
    "pd.options.mode.chained_assignment = None\n",
    "tf.random.set_seed(0)\n",
    "\n",
    "# download the data\n",
    "df = yf.download(tickers=['^GSPC'],start = '2018-01-01',end='2023-04-11', period='1')\n",
    "y = df['Adj Close'].fillna(method='ffill')\n",
    "y\n",
    "\n",
    "# generate the input and output sequences\n",
    "\n",
    "\n",
    "\n"
   ]
  },
  {
   "cell_type": "code",
   "execution_count": 28,
   "id": "e59228c8",
   "metadata": {},
   "outputs": [],
   "source": [
    "y = y.values.reshape(-1, 1)\n",
    "\n",
    "# scale the data\n",
    "scaler = MinMaxScaler(feature_range=(0, 1))\n",
    "scaler = scaler.fit(y)\n",
    "y = scaler.transform(y)\n"
   ]
  },
  {
   "cell_type": "code",
   "execution_count": 118,
   "id": "06564392",
   "metadata": {},
   "outputs": [],
   "source": [
    "n_lookback = 30  # length of input sequences (lookback period)\n",
    "n_forecast = 5  # length of output sequences (forecast period)\n",
    "\n",
    "X = []\n",
    "Y = []\n",
    "\n",
    "for i in range(n_lookback, len(y) - n_forecast + 1):\n",
    "    X.append(y[i - n_lookback: i])\n",
    "    Y.append(y[i: i + n_forecast])\n",
    "\n",
    "X = np.array(X)\n",
    "Y = np.array(Y)"
   ]
  },
  {
   "cell_type": "code",
   "execution_count": 119,
   "id": "8649ef9c",
   "metadata": {},
   "outputs": [],
   "source": [
    "model = Sequential()\n",
    "model.add(LSTM(units=100, return_sequences=True, input_shape=(n_lookback, 1)))\n",
    "model.add(LSTM(units=100))\n",
    "model.add(Dense(n_forecast))\n",
    "\n"
   ]
  },
  {
   "cell_type": "code",
   "execution_count": 156,
   "id": "fa2f51af",
   "metadata": {},
   "outputs": [
    {
     "data": {
      "text/plain": [
       "<keras.callbacks.History at 0x17e5c8e0c70>"
      ]
     },
     "execution_count": 156,
     "metadata": {},
     "output_type": "execute_result"
    }
   ],
   "source": [
    "model.compile(loss='mean_squared_error', optimizer='adam')\n",
    "model.fit(X, Y, epochs=100, batch_size=64, verbose=0)\n"
   ]
  },
  {
   "cell_type": "code",
   "execution_count": 157,
   "id": "670e1435",
   "metadata": {},
   "outputs": [
    {
     "name": "stdout",
     "output_type": "stream",
     "text": [
      "1/1 [==============================] - 1s 1s/step\n"
     ]
    }
   ],
   "source": [
    "# generate the forecasts\n",
    "X_ = y[- n_lookback:]  # last available input sequence\n",
    "X_ = X_.reshape(1, n_lookback, 1)\n",
    "\n",
    "Y_ = model.predict(X_).reshape(-1, 1)\n",
    "Y_ = scaler.inverse_transform(Y_)\n"
   ]
  },
  {
   "cell_type": "code",
   "execution_count": 158,
   "id": "6c0d5108",
   "metadata": {},
   "outputs": [
    {
     "name": "stderr",
     "output_type": "stream",
     "text": [
      "<ipython-input-158-e04fb19a30d6>:13: FutureWarning: The frame.append method is deprecated and will be removed from pandas in a future version. Use pandas.concat instead.\n",
      "  results = df_past.append(df_future).set_index('Date')\n"
     ]
    },
    {
     "data": {
      "text/plain": [
       "<AxesSubplot:title={'center':'S&P500'}, xlabel='Date'>"
      ]
     },
     "execution_count": 158,
     "metadata": {},
     "output_type": "execute_result"
    },
    {
     "data": {
      "image/png": "[encoded data removed]",
      "text/plain": [
       "<Figure size 432x288 with 1 Axes>"
      ]
     },
     "metadata": {
      "needs_background": "light"
     },
     "output_type": "display_data"
    }
   ],
   "source": [
    "# organize the results in a data frame\n",
    "df_past = df[['Close']].reset_index()\n",
    "df_past.rename(columns={'index': 'Date', 'Close': 'Actual'}, inplace=True)\n",
    "df_past['Date'] = pd.to_datetime(df_past['Date'])\n",
    "df_past['Forecast'] = np.nan\n",
    "df_past['Forecast'].iloc[-1] = df_past['Actual'].iloc[-1]\n",
    "\n",
    "df_future = pd.DataFrame(columns=['Date', 'Actual', 'Forecast'])\n",
    "df_future['Date'] = pd.date_range(start=df_past['Date'].iloc[-1] + pd.Timedelta(days=1), periods=n_forecast)\n",
    "df_future['Forecast'] = Y_.flatten()\n",
    "df_future['Actual'] = np.nan\n",
    "\n",
    "results = df_past.append(df_future).set_index('Date')\n",
    "\n",
    "# plot the results\n",
    "results.plot(title='S&P500')"
   ]
  },
  {
   "cell_type": "code",
   "execution_count": 159,
   "id": "9df66b36",
   "metadata": {},
   "outputs": [
    {
     "data": {
      "text/html": [
       "<div>\n",
       "<style scoped>\n",
       "    .dataframe tbody tr th:only-of-type {\n",
       "        vertical-align: middle;\n",
       "    }\n",
       "\n",
       "    .dataframe tbody tr th {\n",
       "        vertical-align: top;\n",
       "    }\n",
       "\n",
       "    .dataframe thead th {\n",
       "        text-align: right;\n",
       "    }\n",
       "</style>\n",
       "<table border=\"1\" class=\"dataframe\">\n",
       "  <thead>\n",
       "    <tr style=\"text-align: right;\">\n",
       "      <th></th>\n",
       "      <th>Date</th>\n",
       "      <th>Actual</th>\n",
       "      <th>Forecast</th>\n",
       "    </tr>\n",
       "  </thead>\n",
       "  <tbody>\n",
       "    <tr>\n",
       "      <th>0</th>\n",
       "      <td>2023-04-11</td>\n",
       "      <td>NaN</td>\n",
       "      <td>4109.737305</td>\n",
       "    </tr>\n",
       "    <tr>\n",
       "      <th>1</th>\n",
       "      <td>2023-04-12</td>\n",
       "      <td>NaN</td>\n",
       "      <td>4111.849609</td>\n",
       "    </tr>\n",
       "    <tr>\n",
       "      <th>2</th>\n",
       "      <td>2023-04-13</td>\n",
       "      <td>NaN</td>\n",
       "      <td>4127.316406</td>\n",
       "    </tr>\n",
       "    <tr>\n",
       "      <th>3</th>\n",
       "      <td>2023-04-14</td>\n",
       "      <td>NaN</td>\n",
       "      <td>4132.048340</td>\n",
       "    </tr>\n",
       "    <tr>\n",
       "      <th>4</th>\n",
       "      <td>2023-04-15</td>\n",
       "      <td>NaN</td>\n",
       "      <td>4134.281738</td>\n",
       "    </tr>\n",
       "  </tbody>\n",
       "</table>\n",
       "</div>"
      ],
      "text/plain": [
       "        Date  Actual     Forecast\n",
       "0 2023-04-11     NaN  4109.737305\n",
       "1 2023-04-12     NaN  4111.849609\n",
       "2 2023-04-13     NaN  4127.316406\n",
       "3 2023-04-14     NaN  4132.048340\n",
       "4 2023-04-15     NaN  4134.281738"
      ]
     },
     "execution_count": 159,
     "metadata": {},
     "output_type": "execute_result"
    }
   ],
   "source": [
    "df_future"
   ]
  },
  {
   "cell_type": "code",
   "execution_count": 162,
   "id": "ea147c44",
   "metadata": {},
   "outputs": [
    {
     "data": {
      "text/plain": [
       "<AxesSubplot:xlabel='Date'>"
      ]
     },
     "execution_count": 162,
     "metadata": {},
     "output_type": "execute_result"
    },
    {
     "data": {
      "image/png": "[encoded data removed]",
      "text/plain": [
       "<Figure size 432x288 with 1 Axes>"
      ]
     },
     "metadata": {
      "needs_background": "light"
     },
     "output_type": "display_data"
    }
   ],
   "source": [
    "br = df_future.set_index('Date')\n",
    "br.plot()"
   ]
  },
  {
   "cell_type": "code",
   "execution_count": null,
   "id": "c77c9ccb",
   "metadata": {},
   "outputs": [],
   "source": []
  }
 ],
 "metadata": {
  "kernelspec": {
   "display_name": "Python 3 (ipykernel)",
   "language": "python",
   "name": "python3"
  },
  "language_info": {
   "codemirror_mode": {
    "name": "ipython",
    "version": 3
   },
   "file_extension": ".py",
   "mimetype": "text/x-python",
   "name": "python",
   "nbconvert_exporter": "python",
   "pygments_lexer": "ipython3",
   "version": "3.8.8"
  }
 },
 "nbformat": 4,
 "nbformat_minor": 5
}
