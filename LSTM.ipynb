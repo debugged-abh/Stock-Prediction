{
 "cells": [
  {
   "cell_type": "code",
   "execution_count": 2,
   "id": "2ebdeea2",
   "metadata": {},
   "outputs": [
    {
     "name": "stdout",
     "output_type": "stream",
     "text": [
      "[*********************100%***********************]  1 of 1 completed\n"
     ]
    },
    {
     "data": {
      "text/html": [
       "<div>\n",
       "<style scoped>\n",
       "    .dataframe tbody tr th:only-of-type {\n",
       "        vertical-align: middle;\n",
       "    }\n",
       "\n",
       "    .dataframe tbody tr th {\n",
       "        vertical-align: top;\n",
       "    }\n",
       "\n",
       "    .dataframe thead th {\n",
       "        text-align: right;\n",
       "    }\n",
       "</style>\n",
       "<table border=\"1\" class=\"dataframe\">\n",
       "  <thead>\n",
       "    <tr style=\"text-align: right;\">\n",
       "      <th></th>\n",
       "      <th>Open</th>\n",
       "      <th>High</th>\n",
       "      <th>Low</th>\n",
       "      <th>Close</th>\n",
       "      <th>Adj Close</th>\n",
       "      <th>Volume</th>\n",
       "    </tr>\n",
       "    <tr>\n",
       "      <th>Date</th>\n",
       "      <th></th>\n",
       "      <th></th>\n",
       "      <th></th>\n",
       "      <th></th>\n",
       "      <th></th>\n",
       "      <th></th>\n",
       "    </tr>\n",
       "  </thead>\n",
       "  <tbody>\n",
       "    <tr>\n",
       "      <th>2020-01-02</th>\n",
       "      <td>120.809998</td>\n",
       "      <td>121.629997</td>\n",
       "      <td>120.769997</td>\n",
       "      <td>121.430000</td>\n",
       "      <td>104.474884</td>\n",
       "      <td>5205000</td>\n",
       "    </tr>\n",
       "    <tr>\n",
       "      <th>2020-01-03</th>\n",
       "      <td>121.779999</td>\n",
       "      <td>122.720001</td>\n",
       "      <td>120.739998</td>\n",
       "      <td>121.010002</td>\n",
       "      <td>104.113533</td>\n",
       "      <td>6360900</td>\n",
       "    </tr>\n",
       "    <tr>\n",
       "      <th>2020-01-06</th>\n",
       "      <td>121.239998</td>\n",
       "      <td>121.669998</td>\n",
       "      <td>120.330002</td>\n",
       "      <td>120.599998</td>\n",
       "      <td>103.760773</td>\n",
       "      <td>9953000</td>\n",
       "    </tr>\n",
       "    <tr>\n",
       "      <th>2020-01-07</th>\n",
       "      <td>119.019997</td>\n",
       "      <td>119.730003</td>\n",
       "      <td>117.769997</td>\n",
       "      <td>119.059998</td>\n",
       "      <td>102.435822</td>\n",
       "      <td>7856900</td>\n",
       "    </tr>\n",
       "    <tr>\n",
       "      <th>2020-01-08</th>\n",
       "      <td>118.550003</td>\n",
       "      <td>119.089996</td>\n",
       "      <td>117.650002</td>\n",
       "      <td>117.699997</td>\n",
       "      <td>101.265701</td>\n",
       "      <td>7295900</td>\n",
       "    </tr>\n",
       "    <tr>\n",
       "      <th>...</th>\n",
       "      <td>...</td>\n",
       "      <td>...</td>\n",
       "      <td>...</td>\n",
       "      <td>...</td>\n",
       "      <td>...</td>\n",
       "      <td>...</td>\n",
       "    </tr>\n",
       "    <tr>\n",
       "      <th>2023-03-31</th>\n",
       "      <td>162.699997</td>\n",
       "      <td>163.720001</td>\n",
       "      <td>162.149994</td>\n",
       "      <td>163.160004</td>\n",
       "      <td>163.160004</td>\n",
       "      <td>7039900</td>\n",
       "    </tr>\n",
       "    <tr>\n",
       "      <th>2023-04-03</th>\n",
       "      <td>169.800003</td>\n",
       "      <td>171.100006</td>\n",
       "      <td>168.919998</td>\n",
       "      <td>169.949997</td>\n",
       "      <td>169.949997</td>\n",
       "      <td>12868200</td>\n",
       "    </tr>\n",
       "    <tr>\n",
       "      <th>2023-04-04</th>\n",
       "      <td>171.139999</td>\n",
       "      <td>171.139999</td>\n",
       "      <td>167.720001</td>\n",
       "      <td>169.039993</td>\n",
       "      <td>169.039993</td>\n",
       "      <td>7521400</td>\n",
       "    </tr>\n",
       "    <tr>\n",
       "      <th>2023-04-05</th>\n",
       "      <td>169.259995</td>\n",
       "      <td>170.440002</td>\n",
       "      <td>167.740005</td>\n",
       "      <td>169.880005</td>\n",
       "      <td>169.880005</td>\n",
       "      <td>6478100</td>\n",
       "    </tr>\n",
       "    <tr>\n",
       "      <th>2023-04-06</th>\n",
       "      <td>169.350006</td>\n",
       "      <td>169.410004</td>\n",
       "      <td>167.130005</td>\n",
       "      <td>167.649994</td>\n",
       "      <td>167.649994</td>\n",
       "      <td>5803200</td>\n",
       "    </tr>\n",
       "  </tbody>\n",
       "</table>\n",
       "<p>822 rows × 6 columns</p>\n",
       "</div>"
      ],
      "text/plain": [
       "                  Open        High         Low       Close   Adj Close  \\\n",
       "Date                                                                     \n",
       "2020-01-02  120.809998  121.629997  120.769997  121.430000  104.474884   \n",
       "2020-01-03  121.779999  122.720001  120.739998  121.010002  104.113533   \n",
       "2020-01-06  121.239998  121.669998  120.330002  120.599998  103.760773   \n",
       "2020-01-07  119.019997  119.730003  117.769997  119.059998  102.435822   \n",
       "2020-01-08  118.550003  119.089996  117.650002  117.699997  101.265701   \n",
       "...                ...         ...         ...         ...         ...   \n",
       "2023-03-31  162.699997  163.720001  162.149994  163.160004  163.160004   \n",
       "2023-04-03  169.800003  171.100006  168.919998  169.949997  169.949997   \n",
       "2023-04-04  171.139999  171.139999  167.720001  169.039993  169.039993   \n",
       "2023-04-05  169.259995  170.440002  167.740005  169.880005  169.880005   \n",
       "2023-04-06  169.350006  169.410004  167.130005  167.649994  167.649994   \n",
       "\n",
       "              Volume  \n",
       "Date                  \n",
       "2020-01-02   5205000  \n",
       "2020-01-03   6360900  \n",
       "2020-01-06   9953000  \n",
       "2020-01-07   7856900  \n",
       "2020-01-08   7295900  \n",
       "...              ...  \n",
       "2023-03-31   7039900  \n",
       "2023-04-03  12868200  \n",
       "2023-04-04   7521400  \n",
       "2023-04-05   6478100  \n",
       "2023-04-06   5803200  \n",
       "\n",
       "[822 rows x 6 columns]"
      ]
     },
     "execution_count": 2,
     "metadata": {},
     "output_type": "execute_result"
    }
   ],
   "source": [
    "# import libraries\n",
    "import numpy as np\n",
    "import pandas as pd\n",
    "import yfinance as yf\n",
    "import tensorflow as tf\n",
    "from tensorflow.keras.layers import Dense, LSTM\n",
    "from tensorflow.keras.models import Sequential\n",
    "from sklearn.preprocessing import MinMaxScaler\n",
    "pd.options.mode.chained_assignment = None\n",
    "tf.random.set_seed(0)\n",
    "\n",
    "# download the data\n",
    "df = yf.download(tickers=['cvx'],start = '2020-01-01',end='2023-04-07', period='1')\n",
    "y = df['Close'].fillna(method='ffill')\n",
    "df\n",
    "# generate the input and output sequences\n",
    "\n",
    "\n",
    "\n"
   ]
  },
  {
   "cell_type": "code",
   "execution_count": 48,
   "id": "e0a1093f",
   "metadata": {},
   "outputs": [],
   "source": [
    "# reshaping close column or variable y from main data set \n",
    "y = y.values.reshape(-1, 1)\n",
    "\n",
    "# scale the data\n",
    "scaler = MinMaxScaler(feature_range=(0, 1))\n",
    "scaler = scaler.fit(y)\n",
    "y = scaler.transform(y)\n"
   ]
  },
  {
   "cell_type": "code",
   "execution_count": null,
   "id": "d70dd1f5",
   "metadata": {},
   "outputs": [],
   "source": []
  },
  {
   "cell_type": "code",
   "execution_count": 96,
   "id": "24f0aa7b",
   "metadata": {},
   "outputs": [],
   "source": [
    "# generate the input and output sequences\n",
    "n_lookback = 50  # length of input sequences (lookback period)\n",
    "n_forecast = 4  # length of output sequences (forecast period)\n",
    "\n",
    "X = []\n",
    "Y = []\n",
    "\n",
    "for i in range(n_lookback, len(y) - n_forecast + 1):\n",
    "    X.append(y[i - n_lookback: i])\n",
    "    Y.append(y[i: i + n_forecast])\n",
    "\n",
    "X = np.array(X)\n",
    "Y = np.array(Y)"
   ]
  },
  {
   "cell_type": "code",
   "execution_count": 97,
   "id": "8e5d9141",
   "metadata": {},
   "outputs": [],
   "source": [
    "# fit the model\n",
    "model = Sequential()\n",
    "model.add(LSTM(units=100, return_sequences=True, input_shape=(n_lookback, 1)))\n",
    "model.add(LSTM(units=100))\n",
    "model.add(Dense(n_forecast))\n",
    "\n"
   ]
  },
  {
   "cell_type": "code",
   "execution_count": 98,
   "id": "d58e3b22",
   "metadata": {},
   "outputs": [
    {
     "data": {
      "text/plain": [
       "<keras.callbacks.History at 0x171bf66fa00>"
      ]
     },
     "execution_count": 98,
     "metadata": {},
     "output_type": "execute_result"
    }
   ],
   "source": [
    "# declare epoch and batch size to train \n",
    "model.compile(loss='mean_squared_error', optimizer='adam')\n",
    "model.fit(X, Y, epochs=100, batch_size=16, verbose=0)\n"
   ]
  },
  {
   "cell_type": "code",
   "execution_count": 99,
   "id": "7a496ecf",
   "metadata": {},
   "outputs": [
    {
     "name": "stdout",
     "output_type": "stream",
     "text": [
      "1/1 [==============================] - 1s 573ms/step\n"
     ]
    }
   ],
   "source": [
    "# generate the forecasts\n",
    "X_ = y[- n_lookback:]  # last available input sequence\n",
    "X_ = X_.reshape(1, n_lookback, 1)\n",
    "\n",
    "Y_ = model.predict(X_).reshape(-1, 1)\n",
    "Y_ = scaler.inverse_transform(Y_)\n"
   ]
  },
  {
   "cell_type": "code",
   "execution_count": 100,
   "id": "9245364c",
   "metadata": {},
   "outputs": [
    {
     "name": "stderr",
     "output_type": "stream",
     "text": [
      "<ipython-input-100-e5cabc06d0e0>:13: FutureWarning: The frame.append method is deprecated and will be removed from pandas in a future version. Use pandas.concat instead.\n",
      "  results = df_past.append(df_future).set_index('Date')\n"
     ]
    },
    {
     "data": {
      "text/plain": [
       "<AxesSubplot:title={'center':'XOM'}, xlabel='Date'>"
      ]
     },
     "execution_count": 100,
     "metadata": {},
     "output_type": "execute_result"
    },
    {
     "data": {
      "image/png": "[encoded data removed]",
      "text/plain": [
       "<Figure size 432x288 with 1 Axes>"
      ]
     },
     "metadata": {
      "needs_background": "light"
     },
     "output_type": "display_data"
    }
   ],
   "source": [
    "# organize the results in a data frame\n",
    "df_past = df[['Close']].reset_index()\n",
    "df_past.rename(columns={'index': 'Date', 'Close': 'Actual'}, inplace=True)\n",
    "df_past['Date'] = pd.to_datetime(df_past['Date'])\n",
    "df_past['Forecast'] = np.nan\n",
    "df_past['Forecast'].iloc[-1] = df_past['Actual'].iloc[-1]\n",
    "\n",
    "df_future = pd.DataFrame(columns=['Date', 'Actual', 'Forecast'])\n",
    "df_future['Date'] = pd.date_range(start=df_past['Date'].iloc[-1] + pd.Timedelta(days=1), periods=n_forecast)\n",
    "df_future['Forecast'] = Y_.flatten()\n",
    "df_future['Actual'] = np.nan\n",
    "\n",
    "results = df_past.append(df_future).set_index('Date')\n",
    "\n",
    "# plot the results\n",
    "results.plot(title='XOM')"
   ]
  },
  {
   "cell_type": "code",
   "execution_count": 101,
   "id": "d05b3b47",
   "metadata": {},
   "outputs": [
    {
     "data": {
      "text/html": [
       "<div>\n",
       "<style scoped>\n",
       "    .dataframe tbody tr th:only-of-type {\n",
       "        vertical-align: middle;\n",
       "    }\n",
       "\n",
       "    .dataframe tbody tr th {\n",
       "        vertical-align: top;\n",
       "    }\n",
       "\n",
       "    .dataframe thead th {\n",
       "        text-align: right;\n",
       "    }\n",
       "</style>\n",
       "<table border=\"1\" class=\"dataframe\">\n",
       "  <thead>\n",
       "    <tr style=\"text-align: right;\">\n",
       "      <th></th>\n",
       "      <th>Date</th>\n",
       "      <th>Actual</th>\n",
       "      <th>Forecast</th>\n",
       "    </tr>\n",
       "  </thead>\n",
       "  <tbody>\n",
       "    <tr>\n",
       "      <th>0</th>\n",
       "      <td>2023-04-04</td>\n",
       "      <td>NaN</td>\n",
       "      <td>171.125046</td>\n",
       "    </tr>\n",
       "    <tr>\n",
       "      <th>1</th>\n",
       "      <td>2023-04-05</td>\n",
       "      <td>NaN</td>\n",
       "      <td>168.580338</td>\n",
       "    </tr>\n",
       "    <tr>\n",
       "      <th>2</th>\n",
       "      <td>2023-04-06</td>\n",
       "      <td>NaN</td>\n",
       "      <td>169.860260</td>\n",
       "    </tr>\n",
       "    <tr>\n",
       "      <th>3</th>\n",
       "      <td>2023-04-07</td>\n",
       "      <td>NaN</td>\n",
       "      <td>167.518906</td>\n",
       "    </tr>\n",
       "  </tbody>\n",
       "</table>\n",
       "</div>"
      ],
      "text/plain": [
       "        Date  Actual    Forecast\n",
       "0 2023-04-04     NaN  171.125046\n",
       "1 2023-04-05     NaN  168.580338\n",
       "2 2023-04-06     NaN  169.860260\n",
       "3 2023-04-07     NaN  167.518906"
      ]
     },
     "execution_count": 101,
     "metadata": {},
     "output_type": "execute_result"
    }
   ],
   "source": [
    "# Forecast \n",
    "df_future"
   ]
  },
  {
   "cell_type": "code",
   "execution_count": 102,
   "id": "e080f0d9",
   "metadata": {},
   "outputs": [],
   "source": [
    "# Forecast plot against date\n",
    "br = df_future.set_index('Date')"
   ]
  },
  {
   "cell_type": "code",
   "execution_count": 103,
   "id": "3a1c2310",
   "metadata": {},
   "outputs": [
    {
     "data": {
      "text/plain": [
       "<AxesSubplot:xlabel='Date'>"
      ]
     },
     "execution_count": 103,
     "metadata": {},
     "output_type": "execute_result"
    },
    {
     "data": {
      "image/png": "[encoded data removed]",
      "text/plain": [
       "<Figure size 432x288 with 1 Axes>"
      ]
     },
     "metadata": {
      "needs_background": "light"
     },
     "output_type": "display_data"
    }
   ],
   "source": [
    "br.plot()"
   ]
  },
  {
   "cell_type": "code",
   "execution_count": null,
   "id": "9be8baf1",
   "metadata": {},
   "outputs": [],
   "source": []
  }
 ],
 "metadata": {
  "kernelspec": {
   "display_name": "Python 3 (ipykernel)",
   "language": "python",
   "name": "python3"
  },
  "language_info": {
   "codemirror_mode": {
    "name": "ipython",
    "version": 3
   },
   "file_extension": ".py",
   "mimetype": "text/x-python",
   "name": "python",
   "nbconvert_exporter": "python",
   "pygments_lexer": "ipython3",
   "version": "3.8.8"
  }
 },
 "nbformat": 4,
 "nbformat_minor": 5
}
